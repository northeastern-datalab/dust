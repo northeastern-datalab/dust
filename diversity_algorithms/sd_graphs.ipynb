{
 "cells": [
  {
   "cell_type": "code",
   "execution_count": null,
   "metadata": {},
   "outputs": [],
   "source": [
    "import matplotlib.pyplot as plt\n",
    "import utilities as utl\n",
    "import pandas as pd\n",
    "from sklearn.decomposition import PCA\n",
    "import numpy as np"
   ]
  },
  {
   "cell_type": "code",
   "execution_count": null,
   "metadata": {},
   "outputs": [],
   "source": [
    "sd_stats = \"/home/khatiwada/dust/diversity_algorithms/sd_stats/labeled_benchmark/\"\n"
   ]
  },
  {
   "cell_type": "code",
   "execution_count": null,
   "metadata": {},
   "outputs": [],
   "source": [
    "per_table_stats = utl.loadDictionaryFromPickleFile(sd_stats + \"per_table_stats.pickle\")\n",
    "per_row_distance_from_mean = utl.loadDictionaryFromPickleFile(sd_stats + \"per_row_distance_from_mean.pickle\")\n",
    "all_tuple_dict = utl.loadDictionaryFromPickleFile(sd_stats + \"all_tuple_dict.pickle\")"
   ]
  },
  {
   "cell_type": "code",
   "execution_count": null,
   "metadata": {},
   "outputs": [],
   "source": [
    "table_mean_embeddings = []\n",
    "row_mean_embeddings = []\n",
    "\n",
    "for table_name in per_table_stats:\n",
    "    table_mean_embeddings.append(per_table_stats[table_name]['mean_embedding'])\n",
    "\n",
    "for row_id in all_tuple_dict:\n",
    "    row_mean_embeddings.append(all_tuple_dict[row_id])"
   ]
  },
  {
   "cell_type": "code",
   "execution_count": null,
   "metadata": {},
   "outputs": [],
   "source": [
    "per_row_euclidean = []\n",
    "per_row_cosine = []\n",
    "per_table_euclidean = []\n",
    "per_table_cosine = []\n",
    "for item in per_row_distance_from_mean:\n",
    "    per_row_cosine.append(per_row_distance_from_mean[item]['cosine'])\n",
    "    per_row_euclidean.append(per_row_distance_from_mean[item]['euclidean'])\n",
    "\n",
    "for item in per_table_stats:\n",
    "    per_table_cosine.append(per_table_stats[item]['cosine_sd'])\n",
    "    per_table_euclidean.append(per_table_stats[item]['euclidean_sd'])\n",
    "\n",
    "    "
   ]
  },
  {
   "cell_type": "code",
   "execution_count": null,
   "metadata": {},
   "outputs": [],
   "source": [
    "dist = \"Cosine\"\n",
    "content = \"row\" # row or table\n",
    "# Example standard deviation values for 100 lists\n",
    "if content == \"row\":\n",
    "    std_dev_values = np.array(per_row_cosine)\n",
    "else:\n",
    "    std_dev_values = np.array(per_table_cosine)\n",
    "\n",
    "# Generate indices for each list (data point)\n",
    "indices = np.arange(len(std_dev_values))\n",
    "\n",
    "# Create a figure and axis\n",
    "fig, ax = plt.subplots(figsize=(10, 6))\n",
    "\n",
    "# Scatter plot of standard deviation values\n",
    "ax.scatter(indices, std_dev_values, color='blue', alpha=0.6)\n",
    "ax.set_ylim(0, 1)\n",
    "\n",
    "if content == \"row\":\n",
    "    # Customize plot labels and title\n",
    "    ax.set_xlabel('Data Point')\n",
    "    ax.set_ylabel(f'{dist} Distance')\n",
    "    ax.set_title(f'{dist} distance from mean of rows within each Table')\n",
    "else: \n",
    "    # Customize plot labels and title\n",
    "    ax.set_xlabel('Data Point')\n",
    "    ax.set_ylabel(f\"Standard Distance\")\n",
    "    ax.set_title(f'Standard Deviation of {dist} distance from Table\\'s mean per row')\n",
    "\n",
    "# Show plot\n",
    "plt.tight_layout()\n",
    "plt.show()\n"
   ]
  },
  {
   "cell_type": "code",
   "execution_count": null,
   "metadata": {},
   "outputs": [],
   "source": [
    "table_mean_embeddings = np.array(table_mean_embeddings)\n",
    "row_mean_embeddings = np.array(row_mean_embeddings)"
   ]
  },
  {
   "cell_type": "code",
   "execution_count": null,
   "metadata": {},
   "outputs": [],
   "source": [
    "\n",
    "pca = PCA(n_components=2)  # For 2D plot, use n_components=3 for 3D plot\n",
    "principal_components = pca.fit_transform(table_mean_embeddings)\n",
    "plt.figure(figsize=(8, 6))\n",
    "plt.ylim(-80, 80)\n",
    "plt.xlim(-250, 250)\n",
    "plt.scatter(principal_components[:, 0], principal_components[:, 1], s=50)\n",
    "plt.title('PCA of 768-Dimensional Data for table embeddings')\n",
    "plt.xlabel('Principal Component 1')\n",
    "plt.ylabel('Principal Component 2')\n",
    "plt.grid()\n",
    "plt.show()"
   ]
  },
  {
   "cell_type": "code",
   "execution_count": null,
   "metadata": {},
   "outputs": [],
   "source": [
    "pca = PCA(n_components=2)  # For 2D plot, use n_components=3 for 3D plot\n",
    "principal_components = pca.fit_transform(row_mean_embeddings)\n",
    "plt.figure(figsize=(8, 6))\n",
    "plt.ylim(-80, 80)\n",
    "plt.xlim(-250, 250)\n",
    "plt.scatter(principal_components[:, 0], principal_components[:, 1], s=50)\n",
    "plt.title('PCA of 768-Dimensional Data for table embeddings')\n",
    "plt.xlabel('Principal Component 1')\n",
    "plt.ylabel('Principal Component 2')\n",
    "plt.grid()\n",
    "plt.show()"
   ]
  },
  {
   "cell_type": "code",
   "execution_count": null,
   "metadata": {},
   "outputs": [],
   "source": []
  }
 ],
 "metadata": {
  "kernelspec": {
   "display_name": "env",
   "language": "python",
   "name": "python3"
  },
  "language_info": {
   "codemirror_mode": {
    "name": "ipython",
    "version": 3
   },
   "file_extension": ".py",
   "mimetype": "text/x-python",
   "name": "python",
   "nbconvert_exporter": "python",
   "pygments_lexer": "ipython3",
   "version": "3.10.9"
  }
 },
 "nbformat": 4,
 "nbformat_minor": 2
}
